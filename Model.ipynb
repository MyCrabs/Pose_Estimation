{
  "nbformat": 4,
  "nbformat_minor": 0,
  "metadata": {
    "colab": {
      "provenance": [],
      "gpuType": "T4"
    },
    "kernelspec": {
      "name": "python3",
      "display_name": "Python 3"
    },
    "language_info": {
      "name": "python"
    },
    "accelerator": "GPU"
  },
  "cells": [
    {
      "cell_type": "markdown",
      "source": [
        "## `Train`"
      ],
      "metadata": {
        "id": "BW3DjaCIfcDN"
      }
    },
    {
      "cell_type": "code",
      "source": [
        "import numpy as np\n",
        "import pandas as pd\n",
        "from tensorflow.keras.utils import to_categorical\n",
        "\n",
        "from keras.layers import LSTM, Dense,Dropout\n",
        "from keras.models import Sequential\n",
        "\n",
        "from sklearn.model_selection import train_test_split\n",
        "\n",
        "# Đọc dữ liệu\n",
        "butt_kick_df = pd.read_csv(\"BUTT KICKS.txt\")\n",
        "high_knee_df = pd.read_csv(\"HIGH_KNEES.txt\")\n",
        "jumping_jack_df = pd.read_csv(\"JUMPING_JACKS.txt\")\n",
        "none_df = pd.read_csv(\"NONE.txt\")\n",
        "\n",
        "\n",
        "X = []\n",
        "y = []\n",
        "no_of_timesteps = 10\n",
        "\n",
        "dataset = butt_kick_df.iloc[:,1:].values\n",
        "n_sample = len(dataset)\n",
        "for i in range(no_of_timesteps, n_sample):\n",
        "    X.append(dataset[i-no_of_timesteps:i,:])\n",
        "    y.append(0)\n",
        "\n",
        "dataset = high_knee_df.iloc[:,1:].values\n",
        "n_sample = len(dataset)\n",
        "for i in range(no_of_timesteps, n_sample):\n",
        "    X.append(dataset[i-no_of_timesteps:i,:])\n",
        "    y.append(1)\n",
        "\n",
        "dataset = jumping_jack_df.iloc[:,1:].values\n",
        "n_sample = len(dataset)\n",
        "for i in range(no_of_timesteps, n_sample):\n",
        "    X.append(dataset[i-no_of_timesteps:i,:])\n",
        "    y.append(2)\n",
        "\n",
        "dataset = none_df.iloc[:,1:].values\n",
        "n_sample = len(dataset)\n",
        "for i in range(no_of_timesteps, n_sample):\n",
        "    X.append(dataset[i-no_of_timesteps:i,:])\n",
        "    y.append(3)\n",
        "\n",
        "X, y = np.array(X), np.array(y)\n",
        "print(X.shape, y.shape)\n",
        "\n",
        "X_train, X_test, y_train, y_test = train_test_split(X, y, test_size=0.2)\n",
        "y_train = to_categorical(y_train, num_classes=4)\n",
        "y_test = to_categorical(y_test, num_classes=4)\n",
        "\n",
        "model  = Sequential()\n",
        "model.add(LSTM(units = 50, return_sequences = True, input_shape = (X.shape[1], X.shape[2])))\n",
        "model.add(Dropout(0.2))\n",
        "model.add(LSTM(units = 50, return_sequences = True))\n",
        "model.add(Dropout(0.2))\n",
        "model.add(LSTM(units = 50))\n",
        "model.add(Dropout(0.2))\n",
        "model.add(Dense(units = 4, activation=\"softmax\"))\n",
        "model.compile(optimizer=\"adam\", metrics = ['accuracy'], loss = \"categorical_crossentropy\")\n",
        "\n",
        "history  = model.fit(X_train, y_train, epochs=20, batch_size=32,validation_data=(X_test, y_test))\n",
        "model.save(\"NewModel.keras\")"
      ],
      "metadata": {
        "colab": {
          "base_uri": "https://localhost:8080/"
        },
        "id": "Cc_WCfSqfwGb",
        "outputId": "1073aee7-2b0a-402c-8c5b-d5bf7b411992"
      },
      "execution_count": 5,
      "outputs": [
        {
          "output_type": "stream",
          "name": "stdout",
          "text": [
            "(2364, 10, 132) (2364,)\n"
          ]
        },
        {
          "output_type": "stream",
          "name": "stderr",
          "text": [
            "/usr/local/lib/python3.10/dist-packages/keras/src/layers/rnn/rnn.py:204: UserWarning: Do not pass an `input_shape`/`input_dim` argument to a layer. When using Sequential models, prefer using an `Input(shape)` object as the first layer in the model instead.\n",
            "  super().__init__(**kwargs)\n"
          ]
        },
        {
          "output_type": "stream",
          "name": "stdout",
          "text": [
            "Epoch 1/20\n",
            "\u001b[1m60/60\u001b[0m \u001b[32m━━━━━━━━━━━━━━━━━━━━\u001b[0m\u001b[37m\u001b[0m \u001b[1m7s\u001b[0m 15ms/step - accuracy: 0.6198 - loss: 1.0012 - val_accuracy: 0.9619 - val_loss: 0.1749\n",
            "Epoch 2/20\n",
            "\u001b[1m60/60\u001b[0m \u001b[32m━━━━━━━━━━━━━━━━━━━━\u001b[0m\u001b[37m\u001b[0m \u001b[1m2s\u001b[0m 8ms/step - accuracy: 0.9090 - loss: 0.2896 - val_accuracy: 0.9366 - val_loss: 0.2367\n",
            "Epoch 3/20\n",
            "\u001b[1m60/60\u001b[0m \u001b[32m━━━━━━━━━━━━━━━━━━━━\u001b[0m\u001b[37m\u001b[0m \u001b[1m1s\u001b[0m 8ms/step - accuracy: 0.9660 - loss: 0.1409 - val_accuracy: 0.9789 - val_loss: 0.0777\n",
            "Epoch 4/20\n",
            "\u001b[1m60/60\u001b[0m \u001b[32m━━━━━━━━━━━━━━━━━━━━\u001b[0m\u001b[37m\u001b[0m \u001b[1m1s\u001b[0m 8ms/step - accuracy: 0.9861 - loss: 0.0613 - val_accuracy: 0.9789 - val_loss: 0.0740\n",
            "Epoch 5/20\n",
            "\u001b[1m60/60\u001b[0m \u001b[32m━━━━━━━━━━━━━━━━━━━━\u001b[0m\u001b[37m\u001b[0m \u001b[1m1s\u001b[0m 8ms/step - accuracy: 0.9795 - loss: 0.0612 - val_accuracy: 0.9852 - val_loss: 0.0526\n",
            "Epoch 6/20\n",
            "\u001b[1m60/60\u001b[0m \u001b[32m━━━━━━━━━━━━━━━━━━━━\u001b[0m\u001b[37m\u001b[0m \u001b[1m1s\u001b[0m 9ms/step - accuracy: 0.9709 - loss: 0.0900 - val_accuracy: 0.9852 - val_loss: 0.0641\n",
            "Epoch 7/20\n",
            "\u001b[1m60/60\u001b[0m \u001b[32m━━━━━━━━━━━━━━━━━━━━\u001b[0m\u001b[37m\u001b[0m \u001b[1m1s\u001b[0m 8ms/step - accuracy: 0.9843 - loss: 0.0589 - val_accuracy: 0.9662 - val_loss: 0.1174\n",
            "Epoch 8/20\n",
            "\u001b[1m60/60\u001b[0m \u001b[32m━━━━━━━━━━━━━━━━━━━━\u001b[0m\u001b[37m\u001b[0m \u001b[1m1s\u001b[0m 8ms/step - accuracy: 0.9831 - loss: 0.0693 - val_accuracy: 0.9810 - val_loss: 0.0781\n",
            "Epoch 9/20\n",
            "\u001b[1m60/60\u001b[0m \u001b[32m━━━━━━━━━━━━━━━━━━━━\u001b[0m\u001b[37m\u001b[0m \u001b[1m1s\u001b[0m 14ms/step - accuracy: 0.9913 - loss: 0.0407 - val_accuracy: 0.9915 - val_loss: 0.0355\n",
            "Epoch 10/20\n",
            "\u001b[1m60/60\u001b[0m \u001b[32m━━━━━━━━━━━━━━━━━━━━\u001b[0m\u001b[37m\u001b[0m \u001b[1m1s\u001b[0m 13ms/step - accuracy: 0.9955 - loss: 0.0194 - val_accuracy: 0.9915 - val_loss: 0.0288\n",
            "Epoch 11/20\n",
            "\u001b[1m60/60\u001b[0m \u001b[32m━━━━━━━━━━━━━━━━━━━━\u001b[0m\u001b[37m\u001b[0m \u001b[1m1s\u001b[0m 8ms/step - accuracy: 0.9958 - loss: 0.0219 - val_accuracy: 0.9915 - val_loss: 0.0175\n",
            "Epoch 12/20\n",
            "\u001b[1m60/60\u001b[0m \u001b[32m━━━━━━━━━━━━━━━━━━━━\u001b[0m\u001b[37m\u001b[0m \u001b[1m1s\u001b[0m 8ms/step - accuracy: 0.9823 - loss: 0.0617 - val_accuracy: 0.9915 - val_loss: 0.0272\n",
            "Epoch 13/20\n",
            "\u001b[1m60/60\u001b[0m \u001b[32m━━━━━━━━━━━━━━━━━━━━\u001b[0m\u001b[37m\u001b[0m \u001b[1m0s\u001b[0m 8ms/step - accuracy: 0.9895 - loss: 0.0361 - val_accuracy: 0.9852 - val_loss: 0.0571\n",
            "Epoch 14/20\n",
            "\u001b[1m60/60\u001b[0m \u001b[32m━━━━━━━━━━━━━━━━━━━━\u001b[0m\u001b[37m\u001b[0m \u001b[1m1s\u001b[0m 8ms/step - accuracy: 0.9728 - loss: 0.0798 - val_accuracy: 0.8901 - val_loss: 0.2490\n",
            "Epoch 15/20\n",
            "\u001b[1m60/60\u001b[0m \u001b[32m━━━━━━━━━━━━━━━━━━━━\u001b[0m\u001b[37m\u001b[0m \u001b[1m1s\u001b[0m 8ms/step - accuracy: 0.9390 - loss: 0.2102 - val_accuracy: 0.9810 - val_loss: 0.0455\n",
            "Epoch 16/20\n",
            "\u001b[1m60/60\u001b[0m \u001b[32m━━━━━━━━━━━━━━━━━━━━\u001b[0m\u001b[37m\u001b[0m \u001b[1m1s\u001b[0m 8ms/step - accuracy: 0.9891 - loss: 0.0443 - val_accuracy: 0.9915 - val_loss: 0.0269\n",
            "Epoch 17/20\n",
            "\u001b[1m60/60\u001b[0m \u001b[32m━━━━━━━━━━━━━━━━━━━━\u001b[0m\u001b[37m\u001b[0m \u001b[1m0s\u001b[0m 8ms/step - accuracy: 0.9953 - loss: 0.0222 - val_accuracy: 0.9937 - val_loss: 0.0181\n",
            "Epoch 18/20\n",
            "\u001b[1m60/60\u001b[0m \u001b[32m━━━━━━━━━━━━━━━━━━━━\u001b[0m\u001b[37m\u001b[0m \u001b[1m1s\u001b[0m 8ms/step - accuracy: 0.9955 - loss: 0.0172 - val_accuracy: 0.9958 - val_loss: 0.0091\n",
            "Epoch 19/20\n",
            "\u001b[1m60/60\u001b[0m \u001b[32m━━━━━━━━━━━━━━━━━━━━\u001b[0m\u001b[37m\u001b[0m \u001b[1m1s\u001b[0m 8ms/step - accuracy: 0.9951 - loss: 0.0157 - val_accuracy: 0.9937 - val_loss: 0.0118\n",
            "Epoch 20/20\n",
            "\u001b[1m60/60\u001b[0m \u001b[32m━━━━━━━━━━━━━━━━━━━━\u001b[0m\u001b[37m\u001b[0m \u001b[1m1s\u001b[0m 8ms/step - accuracy: 0.9965 - loss: 0.0108 - val_accuracy: 0.9958 - val_loss: 0.0071\n"
          ]
        }
      ]
    },
    {
      "cell_type": "code",
      "source": [],
      "metadata": {
        "id": "yp5y-NnclNn_"
      },
      "execution_count": null,
      "outputs": []
    }
  ]
}