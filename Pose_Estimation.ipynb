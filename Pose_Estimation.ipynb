{
  "nbformat": 4,
  "nbformat_minor": 0,
  "metadata": {
    "colab": {
      "provenance": [],
      "gpuType": "T4"
    },
    "kernelspec": {
      "name": "python3",
      "display_name": "Python 3"
    },
    "language_info": {
      "name": "python"
    },
    "accelerator": "GPU"
  },
  "cells": [
    {
      "cell_type": "markdown",
      "source": [
        "## `Train`"
      ],
      "metadata": {
        "id": "BW3DjaCIfcDN"
      }
    },
    {
      "cell_type": "code",
      "source": [],
      "metadata": {
        "id": "PYVl-5409B9K"
      },
      "execution_count": null,
      "outputs": []
    },
    {
      "cell_type": "code",
      "source": [
        "import numpy as np\n",
        "import pandas as pd\n",
        "from tensorflow.keras.utils import to_categorical\n",
        "\n",
        "from keras.layers import LSTM, Dense,Dropout\n",
        "from keras.models import Sequential\n",
        "\n",
        "from sklearn.model_selection import train_test_split\n",
        "\n",
        "# Đọc dữ liệu\n",
        "handswing_df = pd.read_csv(\"HANDSWING.txt\")\n",
        "bodyswing_df = pd.read_csv(\"BODYSWING.txt\")\n",
        "headnodding_df = pd.read_csv(\"HEADNODDING.txt\")\n",
        "headshaking_df = pd.read_csv(\"HEART_SYMBOL.txt\")\n",
        "\n",
        "X = []\n",
        "y = []\n",
        "no_of_timesteps = 10\n",
        "\n",
        "dataset = handswing_df.iloc[:,1:].values\n",
        "n_sample = len(dataset)\n",
        "for i in range(no_of_timesteps, n_sample):\n",
        "    X.append(dataset[i-no_of_timesteps:i,:])\n",
        "    y.append(0)\n",
        "\n",
        "dataset = bodyswing_df.iloc[:,1:].values\n",
        "n_sample = len(dataset)\n",
        "for i in range(no_of_timesteps, n_sample):\n",
        "    X.append(dataset[i-no_of_timesteps:i,:])\n",
        "    y.append(1)\n",
        "\n",
        "dataset = headnodding_df.iloc[:,1:].values\n",
        "n_sample = len(dataset)\n",
        "for i in range(no_of_timesteps, n_sample):\n",
        "    X.append(dataset[i-no_of_timesteps:i,:])\n",
        "    y.append(2)\n",
        "\n",
        "dataset = headshaking_df.iloc[:,1:].values\n",
        "n_sample = len(dataset)\n",
        "for i in range(no_of_timesteps, n_sample):\n",
        "    X.append(dataset[i-no_of_timesteps:i,:])\n",
        "    y.append(3)\n",
        "\n",
        "X, y = np.array(X), np.array(y)\n",
        "print(X.shape, y.shape)\n",
        "\n",
        "X_train, X_test, y_train, y_test = train_test_split(X, y, test_size=0.2)\n",
        "y_train = to_categorical(y_train, num_classes=4)\n",
        "y_test = to_categorical(y_test, num_classes=4)\n",
        "\n",
        "model  = Sequential()\n",
        "model.add(LSTM(units = 50, return_sequences = True, input_shape = (X.shape[1], X.shape[2])))\n",
        "model.add(Dropout(0.2))\n",
        "model.add(LSTM(units = 50, return_sequences = True))\n",
        "model.add(Dropout(0.2))\n",
        "model.add(LSTM(units = 50, return_sequences = True))\n",
        "model.add(Dropout(0.2))\n",
        "model.add(LSTM(units = 50))\n",
        "model.add(Dropout(0.2))\n",
        "model.add(Dense(units = 4, activation=\"softmax\"))\n",
        "model.compile(optimizer=\"adam\", metrics = ['accuracy'], loss = \"categorical_crossentropy\")\n",
        "\n",
        "history  = model.fit(X_train, y_train, epochs=20, batch_size=32,validation_data=(X_test, y_test))\n",
        "model.save(\"modelv2.h5\")"
      ],
      "metadata": {
        "colab": {
          "base_uri": "https://localhost:8080/"
        },
        "id": "Cc_WCfSqfwGb",
        "outputId": "840da49d-5105-40c4-b660-f0085689c550"
      },
      "execution_count": null,
      "outputs": [
        {
          "output_type": "stream",
          "name": "stdout",
          "text": [
            "(2364, 10, 132) (2364,)\n"
          ]
        },
        {
          "output_type": "stream",
          "name": "stderr",
          "text": [
            "/usr/local/lib/python3.10/dist-packages/keras/src/layers/rnn/rnn.py:204: UserWarning: Do not pass an `input_shape`/`input_dim` argument to a layer. When using Sequential models, prefer using an `Input(shape)` object as the first layer in the model instead.\n",
            "  super().__init__(**kwargs)\n"
          ]
        },
        {
          "output_type": "stream",
          "name": "stdout",
          "text": [
            "Epoch 1/20\n",
            "\u001b[1m60/60\u001b[0m \u001b[32m━━━━━━━━━━━━━━━━━━━━\u001b[0m\u001b[37m\u001b[0m \u001b[1m5s\u001b[0m 21ms/step - accuracy: 0.5599 - loss: 1.0124 - val_accuracy: 0.8605 - val_loss: 0.4104\n",
            "Epoch 2/20\n",
            "\u001b[1m60/60\u001b[0m \u001b[32m━━━━━━━━━━━━━━━━━━━━\u001b[0m\u001b[37m\u001b[0m \u001b[1m1s\u001b[0m 16ms/step - accuracy: 0.9045 - loss: 0.2849 - val_accuracy: 0.9450 - val_loss: 0.1468\n",
            "Epoch 3/20\n",
            "\u001b[1m60/60\u001b[0m \u001b[32m━━━━━━━━━━━━━━━━━━━━\u001b[0m\u001b[37m\u001b[0m \u001b[1m1s\u001b[0m 14ms/step - accuracy: 0.9375 - loss: 0.1776 - val_accuracy: 0.9556 - val_loss: 0.1190\n",
            "Epoch 4/20\n",
            "\u001b[1m60/60\u001b[0m \u001b[32m━━━━━━━━━━━━━━━━━━━━\u001b[0m\u001b[37m\u001b[0m \u001b[1m1s\u001b[0m 9ms/step - accuracy: 0.9643 - loss: 0.1081 - val_accuracy: 0.9704 - val_loss: 0.0768\n",
            "Epoch 5/20\n",
            "\u001b[1m60/60\u001b[0m \u001b[32m━━━━━━━━━━━━━━━━━━━━\u001b[0m\u001b[37m\u001b[0m \u001b[1m1s\u001b[0m 9ms/step - accuracy: 0.9619 - loss: 0.1126 - val_accuracy: 0.9937 - val_loss: 0.0207\n",
            "Epoch 6/20\n",
            "\u001b[1m60/60\u001b[0m \u001b[32m━━━━━━━━━━━━━━━━━━━━\u001b[0m\u001b[37m\u001b[0m \u001b[1m1s\u001b[0m 9ms/step - accuracy: 0.9805 - loss: 0.0559 - val_accuracy: 0.9979 - val_loss: 0.0138\n",
            "Epoch 7/20\n",
            "\u001b[1m60/60\u001b[0m \u001b[32m━━━━━━━━━━━━━━━━━━━━\u001b[0m\u001b[37m\u001b[0m \u001b[1m1s\u001b[0m 10ms/step - accuracy: 0.9853 - loss: 0.0579 - val_accuracy: 0.9873 - val_loss: 0.0513\n",
            "Epoch 8/20\n",
            "\u001b[1m60/60\u001b[0m \u001b[32m━━━━━━━━━━━━━━━━━━━━\u001b[0m\u001b[37m\u001b[0m \u001b[1m1s\u001b[0m 10ms/step - accuracy: 0.9853 - loss: 0.0382 - val_accuracy: 0.9767 - val_loss: 0.0675\n",
            "Epoch 9/20\n",
            "\u001b[1m60/60\u001b[0m \u001b[32m━━━━━━━━━━━━━━━━━━━━\u001b[0m\u001b[37m\u001b[0m \u001b[1m1s\u001b[0m 9ms/step - accuracy: 0.9888 - loss: 0.0281 - val_accuracy: 0.9852 - val_loss: 0.0487\n",
            "Epoch 10/20\n",
            "\u001b[1m60/60\u001b[0m \u001b[32m━━━━━━━━━━━━━━━━━━━━\u001b[0m\u001b[37m\u001b[0m \u001b[1m1s\u001b[0m 10ms/step - accuracy: 0.9976 - loss: 0.0107 - val_accuracy: 1.0000 - val_loss: 0.0014\n",
            "Epoch 11/20\n",
            "\u001b[1m60/60\u001b[0m \u001b[32m━━━━━━━━━━━━━━━━━━━━\u001b[0m\u001b[37m\u001b[0m \u001b[1m1s\u001b[0m 9ms/step - accuracy: 0.9887 - loss: 0.0442 - val_accuracy: 0.9852 - val_loss: 0.0886\n",
            "Epoch 12/20\n",
            "\u001b[1m60/60\u001b[0m \u001b[32m━━━━━━━━━━━━━━━━━━━━\u001b[0m\u001b[37m\u001b[0m \u001b[1m1s\u001b[0m 9ms/step - accuracy: 0.9774 - loss: 0.0857 - val_accuracy: 1.0000 - val_loss: 0.0069\n",
            "Epoch 13/20\n",
            "\u001b[1m60/60\u001b[0m \u001b[32m━━━━━━━━━━━━━━━━━━━━\u001b[0m\u001b[37m\u001b[0m \u001b[1m1s\u001b[0m 10ms/step - accuracy: 0.9993 - loss: 0.0107 - val_accuracy: 0.9958 - val_loss: 0.0096\n",
            "Epoch 14/20\n",
            "\u001b[1m60/60\u001b[0m \u001b[32m━━━━━━━━━━━━━━━━━━━━\u001b[0m\u001b[37m\u001b[0m \u001b[1m1s\u001b[0m 9ms/step - accuracy: 0.9970 - loss: 0.0125 - val_accuracy: 0.9556 - val_loss: 0.1707\n",
            "Epoch 15/20\n",
            "\u001b[1m60/60\u001b[0m \u001b[32m━━━━━━━━━━━━━━━━━━━━\u001b[0m\u001b[37m\u001b[0m \u001b[1m1s\u001b[0m 10ms/step - accuracy: 0.9861 - loss: 0.0407 - val_accuracy: 1.0000 - val_loss: 0.0019\n",
            "Epoch 16/20\n",
            "\u001b[1m60/60\u001b[0m \u001b[32m━━━━━━━━━━━━━━━━━━━━\u001b[0m\u001b[37m\u001b[0m \u001b[1m1s\u001b[0m 10ms/step - accuracy: 0.9973 - loss: 0.0084 - val_accuracy: 0.9810 - val_loss: 0.0620\n",
            "Epoch 17/20\n",
            "\u001b[1m60/60\u001b[0m \u001b[32m━━━━━━━━━━━━━━━━━━━━\u001b[0m\u001b[37m\u001b[0m \u001b[1m1s\u001b[0m 9ms/step - accuracy: 0.9851 - loss: 0.0466 - val_accuracy: 0.9979 - val_loss: 0.0125\n",
            "Epoch 18/20\n",
            "\u001b[1m60/60\u001b[0m \u001b[32m━━━━━━━━━━━━━━━━━━━━\u001b[0m\u001b[37m\u001b[0m \u001b[1m1s\u001b[0m 9ms/step - accuracy: 0.9943 - loss: 0.0201 - val_accuracy: 0.9937 - val_loss: 0.0098\n",
            "Epoch 19/20\n",
            "\u001b[1m60/60\u001b[0m \u001b[32m━━━━━━━━━━━━━━━━━━━━\u001b[0m\u001b[37m\u001b[0m \u001b[1m1s\u001b[0m 14ms/step - accuracy: 0.9906 - loss: 0.0339 - val_accuracy: 0.9979 - val_loss: 0.0141\n",
            "Epoch 20/20\n",
            "\u001b[1m60/60\u001b[0m \u001b[32m━━━━━━━━━━━━━━━━━━━━\u001b[0m\u001b[37m\u001b[0m \u001b[1m1s\u001b[0m 16ms/step - accuracy: 0.9982 - loss: 0.0136 - val_accuracy: 0.9979 - val_loss: 0.0057\n"
          ]
        },
        {
          "output_type": "stream",
          "name": "stderr",
          "text": [
            "WARNING:absl:You are saving your model as an HDF5 file via `model.save()` or `keras.saving.save_model(model)`. This file format is considered legacy. We recommend using instead the native Keras format, e.g. `model.save('my_model.keras')` or `keras.saving.save_model(model, 'my_model.keras')`. \n"
          ]
        }
      ]
    },
    {
      "cell_type": "code",
      "source": [],
      "metadata": {
        "id": "kFtplgkEzWk-"
      },
      "execution_count": null,
      "outputs": []
    }
  ]
}